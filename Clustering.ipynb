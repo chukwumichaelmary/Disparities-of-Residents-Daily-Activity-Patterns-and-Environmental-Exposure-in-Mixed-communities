{
 "cells": [
  {
   "cell_type": "code",
   "execution_count": 177,
   "metadata": {},
   "outputs": [],
   "source": [
    "from pandas import DataFrame, read_csv\n",
    "import matplotlib.pyplot as plt\n",
    "import pandas as pd \n",
    "import math\n",
    "import numpy as np"
   ]
  },
  {
   "cell_type": "code",
   "execution_count": 178,
   "metadata": {},
   "outputs": [],
   "source": [
    "file = r'./xinlin_data.xlsx'\n",
    "df = pd.read_excel(file)"
   ]
  },
  {
   "cell_type": "code",
   "execution_count": 179,
   "metadata": {},
   "outputs": [
    {
     "name": "stdout",
     "output_type": "stream",
     "text": [
      "-1\n",
      "1\n",
      "样本编号\n",
      "0\n",
      "2\n",
      "67W1\n",
      "1\n",
      "3\n",
      "68W1\n",
      "2\n",
      "4\n",
      "69W1\n",
      "3\n",
      "5\n",
      "66W2\n",
      "4\n",
      "6\n",
      "67W2\n",
      "5\n",
      "7\n",
      "69W2\n",
      "6\n",
      "8\n",
      "66W3\n",
      "7\n",
      "9\n",
      "67W3\n",
      "8\n",
      "10\n",
      "69W3\n",
      "9\n",
      "11\n",
      "66W4\n",
      "10\n",
      "12\n",
      "67W4\n",
      "11\n",
      "13\n",
      "69W4\n",
      "12\n",
      "14\n",
      "30W5\n",
      "13\n",
      "15\n",
      "66W5\n",
      "14\n",
      "16\n",
      "67W5\n",
      "15\n",
      "17\n",
      "69W5\n",
      "16\n",
      "18\n",
      "57W1\n",
      "17\n",
      "19\n",
      "58W1\n",
      "18\n",
      "20\n",
      "57W2\n",
      "19\n",
      "21\n",
      "58W2\n",
      "20\n",
      "22\n",
      "59W2\n",
      "21\n",
      "23\n",
      "57W3\n",
      "22\n",
      "24\n",
      "59W3\n",
      "23\n",
      "25\n",
      "62W3\n",
      "24\n",
      "26\n",
      "57W4\n",
      "25\n",
      "27\n",
      "58W4\n",
      "26\n",
      "28\n",
      "59W4\n",
      "27\n",
      "29\n",
      "21W5\n",
      "28\n",
      "30\n",
      "57W5\n",
      "29\n",
      "31\n",
      "58W5\n",
      "30\n",
      "32\n",
      "59W5\n",
      "31\n",
      "33\n",
      "55W1\n",
      "32\n",
      "34\n",
      "64W1\n",
      "33\n",
      "35\n",
      "65W1\n",
      "34\n",
      "36\n",
      "63W2\n",
      "35\n",
      "37\n",
      "64W2\n",
      "36\n",
      "38\n",
      "65W2\n",
      "37\n",
      "39\n",
      "63W3\n",
      "38\n",
      "40\n",
      "63W4\n",
      "39\n",
      "41\n",
      "64W3\n",
      "40\n",
      "42\n",
      "65W3\n",
      "41\n",
      "43\n",
      "64W4\n",
      "42\n",
      "44\n",
      "65W4\n",
      "43\n",
      "45\n",
      "28W5\n",
      "44\n",
      "46\n",
      "63W5\n",
      "45\n",
      "47\n",
      "64W5\n",
      "46\n",
      "48\n",
      "65W5\n",
      "47\n",
      "49\n",
      "51W1\n",
      "48\n",
      "50\n",
      "52W1\n",
      "49\n",
      "51\n",
      "53W1\n",
      "50\n",
      "52\n",
      "51W2\n",
      "51\n",
      "53\n",
      "52W2\n",
      "52\n",
      "54\n",
      "53W2\n",
      "53\n",
      "55\n",
      "51W3\n",
      "54\n",
      "56\n",
      "52W3\n",
      "55\n",
      "57\n",
      "53W3\n",
      "56\n",
      "58\n",
      "51W4\n",
      "57\n",
      "59\n",
      "52W4\n",
      "58\n",
      "60\n",
      "53W4\n",
      "59\n",
      "61\n",
      "18W5\n",
      "60\n",
      "62\n",
      "51W5\n",
      "61\n",
      "63\n",
      "52W5\n",
      "62\n",
      "64\n",
      "53W5\n",
      "63\n",
      "65\n",
      "54W1\n",
      "64\n",
      "66\n",
      "56W1\n",
      "65\n",
      "67\n",
      "66W1\n",
      "66\n",
      "68\n",
      "54W2\n",
      "67\n",
      "69\n",
      "55W2\n",
      "68\n",
      "70\n",
      "56W2\n",
      "69\n",
      "71\n",
      "54W3\n",
      "70\n",
      "72\n",
      "55W3\n",
      "71\n",
      "73\n",
      "56W3\n",
      "72\n",
      "74\n",
      "54W4\n",
      "73\n",
      "75\n",
      "55W4\n",
      "74\n",
      "76\n",
      "56W4\n",
      "75\n",
      "77\n",
      "19W5\n",
      "76\n",
      "78\n",
      "54W5\n",
      "77\n",
      "79\n",
      "55W5\n",
      "78\n",
      "80\n",
      "56W5\n",
      "79\n",
      "81\n",
      "06W1\n",
      "80\n",
      "82\n",
      "07W1\n",
      "81\n",
      "83\n",
      "50W1\n",
      "82\n",
      "84\n",
      "06W2\n",
      "83\n",
      "85\n",
      "07W2\n",
      "84\n",
      "86\n",
      "06W3\n",
      "85\n",
      "87\n",
      "07W3\n",
      "86\n",
      "88\n",
      "50W3\n",
      "87\n",
      "89\n",
      "06W4\n",
      "88\n",
      "90\n",
      "07W4\n",
      "89\n",
      "91\n",
      "50W4\n",
      "90\n",
      "92\n",
      "06W5\n",
      "91\n",
      "93\n",
      "07W5\n",
      "92\n",
      "94\n",
      "15W5\n",
      "93\n",
      "95\n",
      "50W5\n",
      "94\n",
      "96\n",
      "59W1\n",
      "95\n",
      "97\n",
      "60W1\n",
      "96\n",
      "98\n",
      "61W1\n",
      "97\n",
      "99\n",
      "22W5\n",
      "98\n",
      "100\n",
      "24W5\n",
      "99\n",
      "101\n",
      "25W5\n",
      "100\n",
      "102\n",
      "26W5\n",
      "101\n",
      "103\n",
      "62W1\n",
      "102\n",
      "104\n",
      "63W1\n",
      "103\n",
      "105\n",
      "60W2\n",
      "104\n",
      "106\n",
      "61W2\n",
      "105\n",
      "107\n",
      "62W2\n",
      "106\n",
      "108\n",
      "58W3\n",
      "107\n",
      "109\n",
      "60W3\n",
      "108\n",
      "110\n",
      "61W3\n",
      "109\n",
      "111\n",
      "60W4\n",
      "110\n",
      "112\n",
      "61W4\n",
      "111\n",
      "113\n",
      "62W4\n",
      "112\n",
      "114\n",
      "27W5\n",
      "113\n",
      "115\n",
      "60W5\n",
      "114\n",
      "116\n",
      "61W5\n",
      "115\n",
      "117\n",
      "62W5\n"
     ]
    }
   ],
   "source": [
    "m=[]\n",
    "prev = \"0000\"\n",
    "data = [0] * 1440\n",
    "x=0\n",
    "for index, row in df.iterrows():\n",
    "    #print(row['IDsample']==prev)\n",
    "    #print row\n",
    "    if ( (row['IDsample']!=prev) ):\n",
    "        #print row['IDsample']\n",
    "        #print(data)\n",
    "        #if (x!=0 and x!=1 and x!=110):\n",
    "        m.append(data)\n",
    "        #else:\n",
    "        #    print row['IDsample']\n",
    "        print(x-1)\n",
    "        print(len(m))\n",
    "        print row['IDsample']\n",
    "        x=x+1\n",
    "        prev = row['IDsample']\n",
    "        data = [0] * 1440\n",
    "    else:\n",
    "        start = int(row['AC_4_1']*60+row['AC_4_2'])\n",
    "        end = int(row['AC_4_3']*60+row['AC_4_4'])\n",
    "        #value = （活动大类-1）*6+（活动小类-1）\n",
    "        #出行 = 0\n",
    "        #print (\"new one\")\n",
    "        #print (row['ID_sample'])\n",
    "        #print (start)\n",
    "        #print (end)\n",
    "        #print (row['AC_9_1'])\n",
    "        #print (row['AC_9_2'])\n",
    "        #print (replacement)\n",
    "        if (float(row['week'])==2):#1 weekday 2 weekend\n",
    "            replacement = float(row['AC_9_3'])\n",
    "        for i in range(start, end):\n",
    "            data[i] = int(round(replacement, 0))\n",
    "m.append(data)"
   ]
  },
  {
   "cell_type": "code",
   "execution_count": 180,
   "metadata": {},
   "outputs": [],
   "source": [
    "m = m[2:]"
   ]
  },
  {
   "cell_type": "code",
   "execution_count": 181,
   "metadata": {},
   "outputs": [
    {
     "data": {
      "text/plain": [
       "116"
      ]
     },
     "execution_count": 181,
     "metadata": {},
     "output_type": "execute_result"
    }
   ],
   "source": [
    "len(m)"
   ]
  },
  {
   "cell_type": "code",
   "execution_count": 182,
   "metadata": {},
   "outputs": [
    {
     "data": {
      "text/plain": [
       "116"
      ]
     },
     "execution_count": 182,
     "metadata": {},
     "output_type": "execute_result"
    }
   ],
   "source": [
    "len(m)"
   ]
  },
  {
   "cell_type": "code",
   "execution_count": 183,
   "metadata": {
    "scrolled": false
   },
   "outputs": [
    {
     "data": {
      "text/plain": [
       "<matplotlib.image.AxesImage at 0x10ef29790>"
      ]
     },
     "execution_count": 183,
     "metadata": {},
     "output_type": "execute_result"
    },
    {
     "data": {
      "image/png": "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\n",
      "text/plain": [
       "<Figure size 432x288 with 1 Axes>"
      ]
     },
     "metadata": {
      "needs_background": "light"
     },
     "output_type": "display_data"
    }
   ],
   "source": [
    "%matplotlib inline\n",
    "plt.imshow(m, cmap=plt.get_cmap('gray'))"
   ]
  },
  {
   "cell_type": "code",
   "execution_count": 184,
   "metadata": {},
   "outputs": [
    {
     "data": {
      "text/plain": [
       "116"
      ]
     },
     "execution_count": 184,
     "metadata": {},
     "output_type": "execute_result"
    }
   ],
   "source": [
    "len(m)"
   ]
  },
  {
   "cell_type": "code",
   "execution_count": 185,
   "metadata": {},
   "outputs": [],
   "source": [
    "string_list = []\n",
    "for row in m:\n",
    "    x = \"\"\n",
    "    for ele in row:\n",
    "        if (ele<10):\n",
    "            x = x + str(ele)\n",
    "        if (ele==10):\n",
    "            x = x + \"a\"\n",
    "    string_list.append(x)"
   ]
  },
  {
   "cell_type": "code",
   "execution_count": 186,
   "metadata": {},
   "outputs": [],
   "source": [
    "from Levenshtein import distance\n",
    "distance_matrix = []\n",
    "for i in range(0,len(string_list)):\n",
    "    array = []\n",
    "    for j in range(0,len(string_list)):\n",
    "        edit_dist = distance(string_list[i], string_list[j])\n",
    "        array.append(edit_dist)\n",
    "    distance_matrix.append(array)"
   ]
  },
  {
   "cell_type": "code",
   "execution_count": 195,
   "metadata": {},
   "outputs": [],
   "source": [
    "from sklearn.cluster import AgglomerativeClustering\n",
    "model = AgglomerativeClustering(affinity='precomputed', n_clusters=6, linkage='complete').fit(distance_matrix)"
   ]
  },
  {
   "cell_type": "code",
   "execution_count": 196,
   "metadata": {
    "scrolled": true
   },
   "outputs": [
    {
     "name": "stdout",
     "output_type": "stream",
     "text": [
      "[1 0 0 4 4 4 4 0 3 4 4 4 5 0 1 4 4 4 4 4 4 0 1 0 4 4 4 1 2 0 4 1 1 0 4 4 4\n",
      " 0 4 0 0 4 4 5 5 4 1 3 0 4 4 4 4 1 0 0 4 4 4 4 1 4 2 4 4 4 4 4 4 4 0 0 4 4\n",
      " 4 2 0 4 2 4 4 4 4 4 0 0 1 4 4 4 2 1 5 4 0 2 2 2 0 4 0 4 1 4 4 4 4 0 2 4 4\n",
      " 4 4 0 0 0]\n"
     ]
    }
   ],
   "source": [
    "print(model.labels_)"
   ]
  },
  {
   "cell_type": "code",
   "execution_count": 197,
   "metadata": {
    "scrolled": true
   },
   "outputs": [
    {
     "data": {
      "text/plain": [
       "116"
      ]
     },
     "execution_count": 197,
     "metadata": {},
     "output_type": "execute_result"
    }
   ],
   "source": [
    "len(model.labels_)"
   ]
  },
  {
   "cell_type": "code",
   "execution_count": 198,
   "metadata": {},
   "outputs": [
    {
     "name": "stdout",
     "output_type": "stream",
     "text": [
      "('No of clusters:', 6)\n",
      "('Cluster 0 : ', array([  1,   2,   7,  13,  21,  23,  29,  33,  37,  39,  40,  48,  54,\n",
      "        55,  70,  71,  76,  84,  85,  94,  98, 100, 107, 113, 114, 115]))\n",
      "('Cluster 1 : ', array([  0,  14,  22,  27,  31,  32,  46,  53,  60,  86,  91, 102]))\n",
      "('Cluster 2 : ', array([ 28,  62,  75,  78,  90,  95,  96,  97, 108]))\n",
      "('Cluster 3 : ', array([ 8, 47]))\n",
      "('Cluster 4 : ', array([  3,   4,   5,   6,   9,  10,  11,  15,  16,  17,  18,  19,  20,\n",
      "        24,  25,  26,  30,  34,  35,  36,  38,  41,  42,  45,  49,  50,\n",
      "        51,  52,  56,  57,  58,  59,  61,  63,  64,  65,  66,  67,  68,\n",
      "        69,  72,  73,  74,  77,  79,  80,  81,  82,  83,  87,  88,  89,\n",
      "        93,  99, 101, 103, 104, 105, 106, 109, 110, 111, 112]))\n",
      "('Cluster 5 : ', array([12, 43, 44, 92]))\n"
     ]
    }
   ],
   "source": [
    "labels = model.labels_\n",
    "no_clusters = len(set(labels)) - (1 if -1 in labels else 0)\n",
    "print('No of clusters:', no_clusters)\n",
    "print('Cluster 0 : ', np.nonzero(labels == 0)[0])\n",
    "print('Cluster 1 : ', np.nonzero(labels == 1)[0])\n",
    "print('Cluster 2 : ', np.nonzero(labels == 2)[0])\n",
    "print('Cluster 3 : ', np.nonzero(labels == 3)[0])\n",
    "print('Cluster 4 : ', np.nonzero(labels == 4)[0])\n",
    "print('Cluster 5 : ', np.nonzero(labels == 5)[0])"
   ]
  },
  {
   "cell_type": "code",
   "execution_count": 60,
   "metadata": {},
   "outputs": [],
   "source": [
    "from sklearn.cluster import AgglomerativeClustering\n",
    "model = AgglomerativeClustering(affinity='precomputed', n_clusters=4, linkage='complete').fit(distance_matrix)"
   ]
  },
  {
   "cell_type": "code",
   "execution_count": 61,
   "metadata": {},
   "outputs": [
    {
     "name": "stdout",
     "output_type": "stream",
     "text": [
      "('No of clusters:', 4)\n",
      "('Cluster 0 : ', array([  0,  16,  17,  20,  61,  69,  93,  97, 100]))\n",
      "('Cluster 1 : ', array([  1,   2,   4,   5,   9,  10,  11,  13,  21,  22,  23,  24,  25,\n",
      "        26,  27,  31,  32,  34,  40,  41,  42,  46,  47,  48,  55,  56,\n",
      "        57,  58,  62,  63,  64,  70,  79,  80,  81,  85,  86,  87,  92,\n",
      "        96,  98,  99, 101, 102, 106]))\n",
      "('Cluster 2 : ', array([  3,   6,   7,   8,  12,  14,  15,  19,  28,  29,  30,  35,  37,\n",
      "        38,  39,  43,  44,  45,  49,  50,  51,  52,  53,  54,  59,  60,\n",
      "        65,  66,  67,  68,  73,  75,  76,  77,  78,  82,  83,  84,  88,\n",
      "        89,  90,  95, 103, 104, 105]))\n",
      "('Cluster 3 : ', array([18, 33, 36, 71, 72, 74, 91, 94]))\n",
      "('Cluster 4 : ', array([], dtype=int64))\n"
     ]
    }
   ],
   "source": [
    "labels = model.labels_\n",
    "no_clusters = len(set(labels)) - (1 if -1 in labels else 0)\n",
    "print('No of clusters:', no_clusters)\n",
    "print('Cluster 0 : ', np.nonzero(labels == 0)[0])\n",
    "print('Cluster 1 : ', np.nonzero(labels == 1)[0])\n",
    "print('Cluster 2 : ', np.nonzero(labels == 2)[0])\n",
    "print('Cluster 3 : ', np.nonzero(labels == 3)[0])\n",
    "print('Cluster 4 : ', np.nonzero(labels == 4)[0])"
   ]
  },
  {
   "cell_type": "code",
   "execution_count": 37,
   "metadata": {},
   "outputs": [],
   "source": [
    "array1 = [  0,  16,  17,  20,  61,  69,  93,  97, 100]\n",
    "array2 = [  1,   2,   4,   5,   9,  10,  11,  13,  21,  22,  23,  24,  25,\n",
    "        26,  27,  31,  32,  34,  40,  41,  42,  46,  47,  48,  55,  56,\n",
    "        57,  58,  62,  63,  64,  70,  79,  80,  81,  85,  86,  87,  92,\n",
    "        96,  98,  99, 101, 102, 106]\n",
    "array3 = [  3,   6,   7,   8,  12,  14,  15,  19,  28,  29,  30,  35,  37,\n",
    "        38,  39,  43,  44,  45,  49,  50,  51,  52,  53,  54,  59,  60,\n",
    "        65,  66,  67,  68,  73,  75,  76,  77,  78,  82,  83,  84,  88,\n",
    "        89,  90,  95, 103, 104, 105]\n",
    "array4 = [18, 33, 36, 71, 72, 74, 91, 94]"
   ]
  },
  {
   "cell_type": "code",
   "execution_count": 38,
   "metadata": {},
   "outputs": [
    {
     "data": {
      "text/plain": [
       "<matplotlib.image.AxesImage at 0x10c6ede10>"
      ]
     },
     "execution_count": 38,
     "metadata": {},
     "output_type": "execute_result"
    },
    {
     "data": {
      "image/png": "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\n",
      "text/plain": [
       "<Figure size 432x288 with 1 Axes>"
      ]
     },
     "metadata": {
      "needs_background": "light"
     },
     "output_type": "display_data"
    }
   ],
   "source": [
    "cluster1 = []\n",
    "for index in array1:\n",
    "    cluster1.append(m[index])\n",
    "for i in range(0,len(cluster1)):\n",
    "    for j in range(0,len(cluster1[i])):\n",
    "        cluster1[i][j]=float(cluster1[i][j])/33\n",
    "plt.imshow(cluster1, cmap=colormap)"
   ]
  },
  {
   "cell_type": "code",
   "execution_count": 39,
   "metadata": {},
   "outputs": [
    {
     "data": {
      "text/plain": [
       "<matplotlib.image.AxesImage at 0x10c9ed1d0>"
      ]
     },
     "execution_count": 39,
     "metadata": {},
     "output_type": "execute_result"
    },
    {
     "data": {
      "image/png": "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\n",
      "text/plain": [
       "<Figure size 432x288 with 1 Axes>"
      ]
     },
     "metadata": {
      "needs_background": "light"
     },
     "output_type": "display_data"
    }
   ],
   "source": [
    "cluster2 = []\n",
    "for index in array2:\n",
    "    cluster2.append(m[index])\n",
    "for i in range(0,len(cluster2)):\n",
    "    for j in range(0,len(cluster2[i])):\n",
    "        cluster2[i][j]=float(cluster2[i][j])/33\n",
    "plt.imshow(cluster2, cmap=colormap)"
   ]
  },
  {
   "cell_type": "code",
   "execution_count": 40,
   "metadata": {},
   "outputs": [
    {
     "data": {
      "text/plain": [
       "<matplotlib.image.AxesImage at 0x10cacd450>"
      ]
     },
     "execution_count": 40,
     "metadata": {},
     "output_type": "execute_result"
    },
    {
     "data": {
      "image/png": "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\n",
      "text/plain": [
       "<Figure size 432x288 with 1 Axes>"
      ]
     },
     "metadata": {
      "needs_background": "light"
     },
     "output_type": "display_data"
    }
   ],
   "source": [
    "cluster3 = []\n",
    "for index in array3:\n",
    "    cluster3.append(m[index])\n",
    "for i in range(0,len(cluster3)):\n",
    "    for j in range(0,len(cluster3[i])):\n",
    "        cluster3[i][j]=float(cluster3[i][j])/33\n",
    "plt.imshow(cluster3, cmap=colormap)"
   ]
  },
  {
   "cell_type": "code",
   "execution_count": 41,
   "metadata": {},
   "outputs": [
    {
     "data": {
      "text/plain": [
       "<matplotlib.image.AxesImage at 0x10ca376d0>"
      ]
     },
     "execution_count": 41,
     "metadata": {},
     "output_type": "execute_result"
    },
    {
     "data": {
      "image/png": "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\n",
      "text/plain": [
       "<Figure size 432x288 with 1 Axes>"
      ]
     },
     "metadata": {
      "needs_background": "light"
     },
     "output_type": "display_data"
    }
   ],
   "source": [
    "cluster4 = []\n",
    "for index in array4:\n",
    "    cluster4.append(m[index])\n",
    "for i in range(0,len(cluster4)):\n",
    "    for j in range(0,len(cluster4[i])):\n",
    "        cluster4[i][j]=float(cluster4[i][j])/33\n",
    "plt.imshow(cluster4, cmap=colormap)"
   ]
  },
  {
   "cell_type": "code",
   "execution_count": 199,
   "metadata": {},
   "outputs": [
    {
     "data": {
      "image/png": "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\n",
      "text/plain": [
       "<Figure size 1080x504 with 1 Axes>"
      ]
     },
     "metadata": {
      "needs_background": "light"
     },
     "output_type": "display_data"
    }
   ],
   "source": [
    "import numpy as np\n",
    "from matplotlib import pyplot as plt\n",
    "from scipy.cluster.hierarchy import dendrogram\n",
    "distance = np.arange(model.children_.shape[0])\n",
    "position = np.arange(2, model.children_.shape[0]+2)\n",
    "linkage_matrix = np.column_stack([\n",
    "        model.children_, distance, position]).astype(float)\n",
    "fig, ax = plt.subplots(figsize=(15, 7))\n",
    "ax = dendrogram(linkage_matrix, orientation='left')\n",
    "plt.tick_params(axis='x', bottom='off', top='off', labelbottom='off')\n",
    "plt.tight_layout()\n",
    "plt.show()"
   ]
  },
  {
   "cell_type": "code",
   "execution_count": null,
   "metadata": {},
   "outputs": [],
   "source": []
  },
  {
   "cell_type": "code",
   "execution_count": null,
   "metadata": {},
   "outputs": [],
   "source": []
  },
  {
   "cell_type": "code",
   "execution_count": null,
   "metadata": {},
   "outputs": [],
   "source": []
  },
  {
   "cell_type": "code",
   "execution_count": null,
   "metadata": {},
   "outputs": [],
   "source": []
  },
  {
   "cell_type": "code",
   "execution_count": null,
   "metadata": {},
   "outputs": [],
   "source": []
  },
  {
   "cell_type": "code",
   "execution_count": null,
   "metadata": {},
   "outputs": [],
   "source": []
  }
 ],
 "metadata": {
  "kernelspec": {
   "display_name": "Python 2",
   "language": "python",
   "name": "python2"
  },
  "language_info": {
   "codemirror_mode": {
    "name": "ipython",
    "version": 2
   },
   "file_extension": ".py",
   "mimetype": "text/x-python",
   "name": "python",
   "nbconvert_exporter": "python",
   "pygments_lexer": "ipython2",
   "version": "2.7.14"
  }
 },
 "nbformat": 4,
 "nbformat_minor": 2
}
# I visited the page
